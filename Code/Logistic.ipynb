{
 "cells": [
  {
   "cell_type": "code",
   "execution_count": 1,
   "metadata": {},
   "outputs": [],
   "source": [
    "import numpy as np\n",
    "import pandas as pd\n",
    "np.set_printoptions(threshold=np.inf)\n",
    "\n",
    "from sklearn import preprocessing"
   ]
  },
  {
   "cell_type": "code",
   "execution_count": 2,
   "metadata": {},
   "outputs": [],
   "source": [
    "a = pd.read_csv('train.csv')\n",
    "# a\n",
    "b = pd.read_csv('test.csv')\n",
    "# b"
   ]
  },
  {
   "cell_type": "code",
   "execution_count": 3,
   "metadata": {},
   "outputs": [
    {
     "name": "stdout",
     "output_type": "stream",
     "text": [
      "(4209, 378)\n",
      "(4209, 377)\n"
     ]
    }
   ],
   "source": [
    "print(a.shape)\n",
    "print(b.shape)"
   ]
  },
  {
   "cell_type": "code",
   "execution_count": 4,
   "metadata": {},
   "outputs": [
    {
     "name": "stdout",
     "output_type": "stream",
     "text": [
      "<class 'pandas.core.frame.DataFrame'>\n",
      "RangeIndex: 4209 entries, 0 to 4208\n",
      "Columns: 378 entries, ID to X385\n",
      "dtypes: float64(1), int64(369), object(8)\n",
      "memory usage: 12.1+ MB\n"
     ]
    },
    {
     "data": {
      "text/html": [
       "<div>\n",
       "<style scoped>\n",
       "    .dataframe tbody tr th:only-of-type {\n",
       "        vertical-align: middle;\n",
       "    }\n",
       "\n",
       "    .dataframe tbody tr th {\n",
       "        vertical-align: top;\n",
       "    }\n",
       "\n",
       "    .dataframe thead th {\n",
       "        text-align: right;\n",
       "    }\n",
       "</style>\n",
       "<table border=\"1\" class=\"dataframe\">\n",
       "  <thead>\n",
       "    <tr style=\"text-align: right;\">\n",
       "      <th></th>\n",
       "      <th>ID</th>\n",
       "      <th>Y</th>\n",
       "      <th>X10</th>\n",
       "      <th>X11</th>\n",
       "      <th>X12</th>\n",
       "      <th>X13</th>\n",
       "      <th>X14</th>\n",
       "      <th>X15</th>\n",
       "      <th>X16</th>\n",
       "      <th>X17</th>\n",
       "      <th>...</th>\n",
       "      <th>X375</th>\n",
       "      <th>X376</th>\n",
       "      <th>X377</th>\n",
       "      <th>X378</th>\n",
       "      <th>X379</th>\n",
       "      <th>X380</th>\n",
       "      <th>X382</th>\n",
       "      <th>X383</th>\n",
       "      <th>X384</th>\n",
       "      <th>X385</th>\n",
       "    </tr>\n",
       "  </thead>\n",
       "  <tbody>\n",
       "    <tr>\n",
       "      <th>count</th>\n",
       "      <td>4209.000000</td>\n",
       "      <td>4209.000000</td>\n",
       "      <td>4209.000000</td>\n",
       "      <td>4209.0</td>\n",
       "      <td>4209.000000</td>\n",
       "      <td>4209.000000</td>\n",
       "      <td>4209.000000</td>\n",
       "      <td>4209.000000</td>\n",
       "      <td>4209.000000</td>\n",
       "      <td>4209.000000</td>\n",
       "      <td>...</td>\n",
       "      <td>4209.000000</td>\n",
       "      <td>4209.000000</td>\n",
       "      <td>4209.000000</td>\n",
       "      <td>4209.000000</td>\n",
       "      <td>4209.000000</td>\n",
       "      <td>4209.000000</td>\n",
       "      <td>4209.000000</td>\n",
       "      <td>4209.000000</td>\n",
       "      <td>4209.000000</td>\n",
       "      <td>4209.000000</td>\n",
       "    </tr>\n",
       "    <tr>\n",
       "      <th>mean</th>\n",
       "      <td>4205.960798</td>\n",
       "      <td>100.669318</td>\n",
       "      <td>0.013305</td>\n",
       "      <td>0.0</td>\n",
       "      <td>0.075077</td>\n",
       "      <td>0.057971</td>\n",
       "      <td>0.428130</td>\n",
       "      <td>0.000475</td>\n",
       "      <td>0.002613</td>\n",
       "      <td>0.007603</td>\n",
       "      <td>...</td>\n",
       "      <td>0.318841</td>\n",
       "      <td>0.057258</td>\n",
       "      <td>0.314802</td>\n",
       "      <td>0.020670</td>\n",
       "      <td>0.009503</td>\n",
       "      <td>0.008078</td>\n",
       "      <td>0.007603</td>\n",
       "      <td>0.001663</td>\n",
       "      <td>0.000475</td>\n",
       "      <td>0.001426</td>\n",
       "    </tr>\n",
       "    <tr>\n",
       "      <th>std</th>\n",
       "      <td>2437.608688</td>\n",
       "      <td>12.679381</td>\n",
       "      <td>0.114590</td>\n",
       "      <td>0.0</td>\n",
       "      <td>0.263547</td>\n",
       "      <td>0.233716</td>\n",
       "      <td>0.494867</td>\n",
       "      <td>0.021796</td>\n",
       "      <td>0.051061</td>\n",
       "      <td>0.086872</td>\n",
       "      <td>...</td>\n",
       "      <td>0.466082</td>\n",
       "      <td>0.232363</td>\n",
       "      <td>0.464492</td>\n",
       "      <td>0.142294</td>\n",
       "      <td>0.097033</td>\n",
       "      <td>0.089524</td>\n",
       "      <td>0.086872</td>\n",
       "      <td>0.040752</td>\n",
       "      <td>0.021796</td>\n",
       "      <td>0.037734</td>\n",
       "    </tr>\n",
       "    <tr>\n",
       "      <th>min</th>\n",
       "      <td>0.000000</td>\n",
       "      <td>72.110000</td>\n",
       "      <td>0.000000</td>\n",
       "      <td>0.0</td>\n",
       "      <td>0.000000</td>\n",
       "      <td>0.000000</td>\n",
       "      <td>0.000000</td>\n",
       "      <td>0.000000</td>\n",
       "      <td>0.000000</td>\n",
       "      <td>0.000000</td>\n",
       "      <td>...</td>\n",
       "      <td>0.000000</td>\n",
       "      <td>0.000000</td>\n",
       "      <td>0.000000</td>\n",
       "      <td>0.000000</td>\n",
       "      <td>0.000000</td>\n",
       "      <td>0.000000</td>\n",
       "      <td>0.000000</td>\n",
       "      <td>0.000000</td>\n",
       "      <td>0.000000</td>\n",
       "      <td>0.000000</td>\n",
       "    </tr>\n",
       "    <tr>\n",
       "      <th>25%</th>\n",
       "      <td>2095.000000</td>\n",
       "      <td>90.820000</td>\n",
       "      <td>0.000000</td>\n",
       "      <td>0.0</td>\n",
       "      <td>0.000000</td>\n",
       "      <td>0.000000</td>\n",
       "      <td>0.000000</td>\n",
       "      <td>0.000000</td>\n",
       "      <td>0.000000</td>\n",
       "      <td>0.000000</td>\n",
       "      <td>...</td>\n",
       "      <td>0.000000</td>\n",
       "      <td>0.000000</td>\n",
       "      <td>0.000000</td>\n",
       "      <td>0.000000</td>\n",
       "      <td>0.000000</td>\n",
       "      <td>0.000000</td>\n",
       "      <td>0.000000</td>\n",
       "      <td>0.000000</td>\n",
       "      <td>0.000000</td>\n",
       "      <td>0.000000</td>\n",
       "    </tr>\n",
       "    <tr>\n",
       "      <th>50%</th>\n",
       "      <td>4220.000000</td>\n",
       "      <td>99.150000</td>\n",
       "      <td>0.000000</td>\n",
       "      <td>0.0</td>\n",
       "      <td>0.000000</td>\n",
       "      <td>0.000000</td>\n",
       "      <td>0.000000</td>\n",
       "      <td>0.000000</td>\n",
       "      <td>0.000000</td>\n",
       "      <td>0.000000</td>\n",
       "      <td>...</td>\n",
       "      <td>0.000000</td>\n",
       "      <td>0.000000</td>\n",
       "      <td>0.000000</td>\n",
       "      <td>0.000000</td>\n",
       "      <td>0.000000</td>\n",
       "      <td>0.000000</td>\n",
       "      <td>0.000000</td>\n",
       "      <td>0.000000</td>\n",
       "      <td>0.000000</td>\n",
       "      <td>0.000000</td>\n",
       "    </tr>\n",
       "    <tr>\n",
       "      <th>75%</th>\n",
       "      <td>6314.000000</td>\n",
       "      <td>109.010000</td>\n",
       "      <td>0.000000</td>\n",
       "      <td>0.0</td>\n",
       "      <td>0.000000</td>\n",
       "      <td>0.000000</td>\n",
       "      <td>1.000000</td>\n",
       "      <td>0.000000</td>\n",
       "      <td>0.000000</td>\n",
       "      <td>0.000000</td>\n",
       "      <td>...</td>\n",
       "      <td>1.000000</td>\n",
       "      <td>0.000000</td>\n",
       "      <td>1.000000</td>\n",
       "      <td>0.000000</td>\n",
       "      <td>0.000000</td>\n",
       "      <td>0.000000</td>\n",
       "      <td>0.000000</td>\n",
       "      <td>0.000000</td>\n",
       "      <td>0.000000</td>\n",
       "      <td>0.000000</td>\n",
       "    </tr>\n",
       "    <tr>\n",
       "      <th>max</th>\n",
       "      <td>8417.000000</td>\n",
       "      <td>265.320000</td>\n",
       "      <td>1.000000</td>\n",
       "      <td>0.0</td>\n",
       "      <td>1.000000</td>\n",
       "      <td>1.000000</td>\n",
       "      <td>1.000000</td>\n",
       "      <td>1.000000</td>\n",
       "      <td>1.000000</td>\n",
       "      <td>1.000000</td>\n",
       "      <td>...</td>\n",
       "      <td>1.000000</td>\n",
       "      <td>1.000000</td>\n",
       "      <td>1.000000</td>\n",
       "      <td>1.000000</td>\n",
       "      <td>1.000000</td>\n",
       "      <td>1.000000</td>\n",
       "      <td>1.000000</td>\n",
       "      <td>1.000000</td>\n",
       "      <td>1.000000</td>\n",
       "      <td>1.000000</td>\n",
       "    </tr>\n",
       "  </tbody>\n",
       "</table>\n",
       "<p>8 rows × 370 columns</p>\n",
       "</div>"
      ],
      "text/plain": [
       "                ID            Y          X10     X11          X12  \\\n",
       "count  4209.000000  4209.000000  4209.000000  4209.0  4209.000000   \n",
       "mean   4205.960798   100.669318     0.013305     0.0     0.075077   \n",
       "std    2437.608688    12.679381     0.114590     0.0     0.263547   \n",
       "min       0.000000    72.110000     0.000000     0.0     0.000000   \n",
       "25%    2095.000000    90.820000     0.000000     0.0     0.000000   \n",
       "50%    4220.000000    99.150000     0.000000     0.0     0.000000   \n",
       "75%    6314.000000   109.010000     0.000000     0.0     0.000000   \n",
       "max    8417.000000   265.320000     1.000000     0.0     1.000000   \n",
       "\n",
       "               X13          X14          X15          X16          X17  \\\n",
       "count  4209.000000  4209.000000  4209.000000  4209.000000  4209.000000   \n",
       "mean      0.057971     0.428130     0.000475     0.002613     0.007603   \n",
       "std       0.233716     0.494867     0.021796     0.051061     0.086872   \n",
       "min       0.000000     0.000000     0.000000     0.000000     0.000000   \n",
       "25%       0.000000     0.000000     0.000000     0.000000     0.000000   \n",
       "50%       0.000000     0.000000     0.000000     0.000000     0.000000   \n",
       "75%       0.000000     1.000000     0.000000     0.000000     0.000000   \n",
       "max       1.000000     1.000000     1.000000     1.000000     1.000000   \n",
       "\n",
       "          ...              X375         X376         X377         X378  \\\n",
       "count     ...       4209.000000  4209.000000  4209.000000  4209.000000   \n",
       "mean      ...          0.318841     0.057258     0.314802     0.020670   \n",
       "std       ...          0.466082     0.232363     0.464492     0.142294   \n",
       "min       ...          0.000000     0.000000     0.000000     0.000000   \n",
       "25%       ...          0.000000     0.000000     0.000000     0.000000   \n",
       "50%       ...          0.000000     0.000000     0.000000     0.000000   \n",
       "75%       ...          1.000000     0.000000     1.000000     0.000000   \n",
       "max       ...          1.000000     1.000000     1.000000     1.000000   \n",
       "\n",
       "              X379         X380         X382         X383         X384  \\\n",
       "count  4209.000000  4209.000000  4209.000000  4209.000000  4209.000000   \n",
       "mean      0.009503     0.008078     0.007603     0.001663     0.000475   \n",
       "std       0.097033     0.089524     0.086872     0.040752     0.021796   \n",
       "min       0.000000     0.000000     0.000000     0.000000     0.000000   \n",
       "25%       0.000000     0.000000     0.000000     0.000000     0.000000   \n",
       "50%       0.000000     0.000000     0.000000     0.000000     0.000000   \n",
       "75%       0.000000     0.000000     0.000000     0.000000     0.000000   \n",
       "max       1.000000     1.000000     1.000000     1.000000     1.000000   \n",
       "\n",
       "              X385  \n",
       "count  4209.000000  \n",
       "mean      0.001426  \n",
       "std       0.037734  \n",
       "min       0.000000  \n",
       "25%       0.000000  \n",
       "50%       0.000000  \n",
       "75%       0.000000  \n",
       "max       1.000000  \n",
       "\n",
       "[8 rows x 370 columns]"
      ]
     },
     "execution_count": 4,
     "metadata": {},
     "output_type": "execute_result"
    }
   ],
   "source": [
    "a.info()\n",
    "a.describe()"
   ]
  },
  {
   "cell_type": "code",
   "execution_count": 5,
   "metadata": {},
   "outputs": [
    {
     "name": "stdout",
     "output_type": "stream",
     "text": [
      "<class 'pandas.core.frame.DataFrame'>\n",
      "RangeIndex: 4209 entries, 0 to 4208\n",
      "Columns: 377 entries, ID to X385\n",
      "dtypes: int64(369), object(8)\n",
      "memory usage: 12.1+ MB\n"
     ]
    },
    {
     "data": {
      "text/html": [
       "<div>\n",
       "<style scoped>\n",
       "    .dataframe tbody tr th:only-of-type {\n",
       "        vertical-align: middle;\n",
       "    }\n",
       "\n",
       "    .dataframe tbody tr th {\n",
       "        vertical-align: top;\n",
       "    }\n",
       "\n",
       "    .dataframe thead th {\n",
       "        text-align: right;\n",
       "    }\n",
       "</style>\n",
       "<table border=\"1\" class=\"dataframe\">\n",
       "  <thead>\n",
       "    <tr style=\"text-align: right;\">\n",
       "      <th></th>\n",
       "      <th>ID</th>\n",
       "      <th>X10</th>\n",
       "      <th>X11</th>\n",
       "      <th>X12</th>\n",
       "      <th>X13</th>\n",
       "      <th>X14</th>\n",
       "      <th>X15</th>\n",
       "      <th>X16</th>\n",
       "      <th>X17</th>\n",
       "      <th>X18</th>\n",
       "      <th>...</th>\n",
       "      <th>X375</th>\n",
       "      <th>X376</th>\n",
       "      <th>X377</th>\n",
       "      <th>X378</th>\n",
       "      <th>X379</th>\n",
       "      <th>X380</th>\n",
       "      <th>X382</th>\n",
       "      <th>X383</th>\n",
       "      <th>X384</th>\n",
       "      <th>X385</th>\n",
       "    </tr>\n",
       "  </thead>\n",
       "  <tbody>\n",
       "    <tr>\n",
       "      <th>count</th>\n",
       "      <td>4209.000000</td>\n",
       "      <td>4209.000000</td>\n",
       "      <td>4209.000000</td>\n",
       "      <td>4209.000000</td>\n",
       "      <td>4209.000000</td>\n",
       "      <td>4209.000000</td>\n",
       "      <td>4209.000000</td>\n",
       "      <td>4209.000000</td>\n",
       "      <td>4209.000000</td>\n",
       "      <td>4209.000000</td>\n",
       "      <td>...</td>\n",
       "      <td>4209.000000</td>\n",
       "      <td>4209.000000</td>\n",
       "      <td>4209.000000</td>\n",
       "      <td>4209.000000</td>\n",
       "      <td>4209.000000</td>\n",
       "      <td>4209.000000</td>\n",
       "      <td>4209.000000</td>\n",
       "      <td>4209.000000</td>\n",
       "      <td>4209.000000</td>\n",
       "      <td>4209.000000</td>\n",
       "    </tr>\n",
       "    <tr>\n",
       "      <th>mean</th>\n",
       "      <td>4211.039202</td>\n",
       "      <td>0.019007</td>\n",
       "      <td>0.000238</td>\n",
       "      <td>0.074364</td>\n",
       "      <td>0.061060</td>\n",
       "      <td>0.427893</td>\n",
       "      <td>0.000713</td>\n",
       "      <td>0.002613</td>\n",
       "      <td>0.008791</td>\n",
       "      <td>0.010216</td>\n",
       "      <td>...</td>\n",
       "      <td>0.325968</td>\n",
       "      <td>0.049656</td>\n",
       "      <td>0.311951</td>\n",
       "      <td>0.019244</td>\n",
       "      <td>0.011879</td>\n",
       "      <td>0.008078</td>\n",
       "      <td>0.008791</td>\n",
       "      <td>0.000475</td>\n",
       "      <td>0.000713</td>\n",
       "      <td>0.001663</td>\n",
       "    </tr>\n",
       "    <tr>\n",
       "      <th>std</th>\n",
       "      <td>2423.078926</td>\n",
       "      <td>0.136565</td>\n",
       "      <td>0.015414</td>\n",
       "      <td>0.262394</td>\n",
       "      <td>0.239468</td>\n",
       "      <td>0.494832</td>\n",
       "      <td>0.026691</td>\n",
       "      <td>0.051061</td>\n",
       "      <td>0.093357</td>\n",
       "      <td>0.100570</td>\n",
       "      <td>...</td>\n",
       "      <td>0.468791</td>\n",
       "      <td>0.217258</td>\n",
       "      <td>0.463345</td>\n",
       "      <td>0.137399</td>\n",
       "      <td>0.108356</td>\n",
       "      <td>0.089524</td>\n",
       "      <td>0.093357</td>\n",
       "      <td>0.021796</td>\n",
       "      <td>0.026691</td>\n",
       "      <td>0.040752</td>\n",
       "    </tr>\n",
       "    <tr>\n",
       "      <th>min</th>\n",
       "      <td>1.000000</td>\n",
       "      <td>0.000000</td>\n",
       "      <td>0.000000</td>\n",
       "      <td>0.000000</td>\n",
       "      <td>0.000000</td>\n",
       "      <td>0.000000</td>\n",
       "      <td>0.000000</td>\n",
       "      <td>0.000000</td>\n",
       "      <td>0.000000</td>\n",
       "      <td>0.000000</td>\n",
       "      <td>...</td>\n",
       "      <td>0.000000</td>\n",
       "      <td>0.000000</td>\n",
       "      <td>0.000000</td>\n",
       "      <td>0.000000</td>\n",
       "      <td>0.000000</td>\n",
       "      <td>0.000000</td>\n",
       "      <td>0.000000</td>\n",
       "      <td>0.000000</td>\n",
       "      <td>0.000000</td>\n",
       "      <td>0.000000</td>\n",
       "    </tr>\n",
       "    <tr>\n",
       "      <th>25%</th>\n",
       "      <td>2115.000000</td>\n",
       "      <td>0.000000</td>\n",
       "      <td>0.000000</td>\n",
       "      <td>0.000000</td>\n",
       "      <td>0.000000</td>\n",
       "      <td>0.000000</td>\n",
       "      <td>0.000000</td>\n",
       "      <td>0.000000</td>\n",
       "      <td>0.000000</td>\n",
       "      <td>0.000000</td>\n",
       "      <td>...</td>\n",
       "      <td>0.000000</td>\n",
       "      <td>0.000000</td>\n",
       "      <td>0.000000</td>\n",
       "      <td>0.000000</td>\n",
       "      <td>0.000000</td>\n",
       "      <td>0.000000</td>\n",
       "      <td>0.000000</td>\n",
       "      <td>0.000000</td>\n",
       "      <td>0.000000</td>\n",
       "      <td>0.000000</td>\n",
       "    </tr>\n",
       "    <tr>\n",
       "      <th>50%</th>\n",
       "      <td>4202.000000</td>\n",
       "      <td>0.000000</td>\n",
       "      <td>0.000000</td>\n",
       "      <td>0.000000</td>\n",
       "      <td>0.000000</td>\n",
       "      <td>0.000000</td>\n",
       "      <td>0.000000</td>\n",
       "      <td>0.000000</td>\n",
       "      <td>0.000000</td>\n",
       "      <td>0.000000</td>\n",
       "      <td>...</td>\n",
       "      <td>0.000000</td>\n",
       "      <td>0.000000</td>\n",
       "      <td>0.000000</td>\n",
       "      <td>0.000000</td>\n",
       "      <td>0.000000</td>\n",
       "      <td>0.000000</td>\n",
       "      <td>0.000000</td>\n",
       "      <td>0.000000</td>\n",
       "      <td>0.000000</td>\n",
       "      <td>0.000000</td>\n",
       "    </tr>\n",
       "    <tr>\n",
       "      <th>75%</th>\n",
       "      <td>6310.000000</td>\n",
       "      <td>0.000000</td>\n",
       "      <td>0.000000</td>\n",
       "      <td>0.000000</td>\n",
       "      <td>0.000000</td>\n",
       "      <td>1.000000</td>\n",
       "      <td>0.000000</td>\n",
       "      <td>0.000000</td>\n",
       "      <td>0.000000</td>\n",
       "      <td>0.000000</td>\n",
       "      <td>...</td>\n",
       "      <td>1.000000</td>\n",
       "      <td>0.000000</td>\n",
       "      <td>1.000000</td>\n",
       "      <td>0.000000</td>\n",
       "      <td>0.000000</td>\n",
       "      <td>0.000000</td>\n",
       "      <td>0.000000</td>\n",
       "      <td>0.000000</td>\n",
       "      <td>0.000000</td>\n",
       "      <td>0.000000</td>\n",
       "    </tr>\n",
       "    <tr>\n",
       "      <th>max</th>\n",
       "      <td>8416.000000</td>\n",
       "      <td>1.000000</td>\n",
       "      <td>1.000000</td>\n",
       "      <td>1.000000</td>\n",
       "      <td>1.000000</td>\n",
       "      <td>1.000000</td>\n",
       "      <td>1.000000</td>\n",
       "      <td>1.000000</td>\n",
       "      <td>1.000000</td>\n",
       "      <td>1.000000</td>\n",
       "      <td>...</td>\n",
       "      <td>1.000000</td>\n",
       "      <td>1.000000</td>\n",
       "      <td>1.000000</td>\n",
       "      <td>1.000000</td>\n",
       "      <td>1.000000</td>\n",
       "      <td>1.000000</td>\n",
       "      <td>1.000000</td>\n",
       "      <td>1.000000</td>\n",
       "      <td>1.000000</td>\n",
       "      <td>1.000000</td>\n",
       "    </tr>\n",
       "  </tbody>\n",
       "</table>\n",
       "<p>8 rows × 369 columns</p>\n",
       "</div>"
      ],
      "text/plain": [
       "                ID          X10          X11          X12          X13  \\\n",
       "count  4209.000000  4209.000000  4209.000000  4209.000000  4209.000000   \n",
       "mean   4211.039202     0.019007     0.000238     0.074364     0.061060   \n",
       "std    2423.078926     0.136565     0.015414     0.262394     0.239468   \n",
       "min       1.000000     0.000000     0.000000     0.000000     0.000000   \n",
       "25%    2115.000000     0.000000     0.000000     0.000000     0.000000   \n",
       "50%    4202.000000     0.000000     0.000000     0.000000     0.000000   \n",
       "75%    6310.000000     0.000000     0.000000     0.000000     0.000000   \n",
       "max    8416.000000     1.000000     1.000000     1.000000     1.000000   \n",
       "\n",
       "               X14          X15          X16          X17          X18  \\\n",
       "count  4209.000000  4209.000000  4209.000000  4209.000000  4209.000000   \n",
       "mean      0.427893     0.000713     0.002613     0.008791     0.010216   \n",
       "std       0.494832     0.026691     0.051061     0.093357     0.100570   \n",
       "min       0.000000     0.000000     0.000000     0.000000     0.000000   \n",
       "25%       0.000000     0.000000     0.000000     0.000000     0.000000   \n",
       "50%       0.000000     0.000000     0.000000     0.000000     0.000000   \n",
       "75%       1.000000     0.000000     0.000000     0.000000     0.000000   \n",
       "max       1.000000     1.000000     1.000000     1.000000     1.000000   \n",
       "\n",
       "          ...              X375         X376         X377         X378  \\\n",
       "count     ...       4209.000000  4209.000000  4209.000000  4209.000000   \n",
       "mean      ...          0.325968     0.049656     0.311951     0.019244   \n",
       "std       ...          0.468791     0.217258     0.463345     0.137399   \n",
       "min       ...          0.000000     0.000000     0.000000     0.000000   \n",
       "25%       ...          0.000000     0.000000     0.000000     0.000000   \n",
       "50%       ...          0.000000     0.000000     0.000000     0.000000   \n",
       "75%       ...          1.000000     0.000000     1.000000     0.000000   \n",
       "max       ...          1.000000     1.000000     1.000000     1.000000   \n",
       "\n",
       "              X379         X380         X382         X383         X384  \\\n",
       "count  4209.000000  4209.000000  4209.000000  4209.000000  4209.000000   \n",
       "mean      0.011879     0.008078     0.008791     0.000475     0.000713   \n",
       "std       0.108356     0.089524     0.093357     0.021796     0.026691   \n",
       "min       0.000000     0.000000     0.000000     0.000000     0.000000   \n",
       "25%       0.000000     0.000000     0.000000     0.000000     0.000000   \n",
       "50%       0.000000     0.000000     0.000000     0.000000     0.000000   \n",
       "75%       0.000000     0.000000     0.000000     0.000000     0.000000   \n",
       "max       1.000000     1.000000     1.000000     1.000000     1.000000   \n",
       "\n",
       "              X385  \n",
       "count  4209.000000  \n",
       "mean      0.001663  \n",
       "std       0.040752  \n",
       "min       0.000000  \n",
       "25%       0.000000  \n",
       "50%       0.000000  \n",
       "75%       0.000000  \n",
       "max       1.000000  \n",
       "\n",
       "[8 rows x 369 columns]"
      ]
     },
     "execution_count": 5,
     "metadata": {},
     "output_type": "execute_result"
    }
   ],
   "source": [
    "b.info()\n",
    "b.describe()"
   ]
  },
  {
   "cell_type": "code",
   "execution_count": 6,
   "metadata": {},
   "outputs": [
    {
     "name": "stdout",
     "output_type": "stream",
     "text": [
      "False\n",
      "False\n"
     ]
    }
   ],
   "source": [
    "print(a.isnull().values.any())\n",
    "print(b.isnull().values.any())"
   ]
  },
  {
   "cell_type": "code",
   "execution_count": 7,
   "metadata": {},
   "outputs": [
    {
     "name": "stdout",
     "output_type": "stream",
     "text": [
      "(4209, 377)\n",
      "(4209, 377)\n"
     ]
    }
   ],
   "source": [
    "targets = a['Y']\n",
    "a = a.drop('Y', axis = 1)\n",
    "print(a.shape)\n",
    "print(b.shape)"
   ]
  },
  {
   "cell_type": "code",
   "execution_count": 8,
   "metadata": {},
   "outputs": [
    {
     "name": "stdout",
     "output_type": "stream",
     "text": [
      "72.11\n",
      "265.32\n",
      "40\n"
     ]
    }
   ],
   "source": [
    "print(targets.min())\n",
    "print(targets.max())\n",
    "print(len(range(70, 270, 5)))"
   ]
  },
  {
   "cell_type": "code",
   "execution_count": 9,
   "metadata": {},
   "outputs": [],
   "source": [
    "targets = targets.values"
   ]
  },
  {
   "cell_type": "code",
   "execution_count": 10,
   "metadata": {},
   "outputs": [],
   "source": [
    "bin1 = ((targets > 70) & (targets < 75)).astype(int)\n",
    "bin2 = ((targets > 75) & (targets < 80)).astype(int)\n",
    "bin3 = ((targets > 80) & (targets < 85)).astype(int)\n",
    "bin4 = ((targets > 85) & (targets < 90)).astype(int)\n",
    "bin5 = ((targets > 90) & (targets < 95)).astype(int)\n",
    "bin6 = ((targets > 95) & (targets < 100)).astype(int)\n",
    "bin7 = ((targets > 100) & (targets < 105)).astype(int)\n",
    "bin8 = ((targets > 105) & (targets < 110)).astype(int)\n",
    "bin9 = ((targets > 110) & (targets < 115)).astype(int)\n",
    "bin10 = ((targets > 115) & (targets < 120)).astype(int)\n",
    "bin11 = ((targets > 120) & (targets < 125)).astype(int)\n",
    "bin12 = ((targets > 125) & (targets < 130)).astype(int)\n",
    "bin13 = ((targets > 130) & (targets < 135)).astype(int)\n",
    "bin14 = ((targets > 135) & (targets < 140)).astype(int)\n",
    "bin15 = ((targets > 140) & (targets < 145)).astype(int)\n",
    "bin16 = ((targets > 145) & (targets < 150)).astype(int)\n",
    "bin17 = ((targets > 150) & (targets < 155)).astype(int)\n",
    "bin18 = ((targets > 155) & (targets < 160)).astype(int)\n",
    "bin19 = ((targets > 160) & (targets < 165)).astype(int)\n",
    "bin20 = (targets > 165).astype(int)"
   ]
  },
  {
   "cell_type": "code",
   "execution_count": 11,
   "metadata": {},
   "outputs": [],
   "source": [
    "a['new_y']=''"
   ]
  },
  {
   "cell_type": "code",
   "execution_count": 12,
   "metadata": {},
   "outputs": [],
   "source": [
    "for i in range(4209):\n",
    "    if (targets[i]>70) & (targets[i] <= 75):\n",
    "        a.loc[i,['new_y']] = 'bin1'\n",
    "    if (targets[i]>75) & (targets[i] <= 80):\n",
    "        a.loc[i,['new_y']] = 'bin2'\n",
    "    if (targets[i]>80) & (targets[i] <= 85):\n",
    "        a.loc[i,['new_y']] = 'bin3'\n",
    "    if (targets[i]>85) & (targets[i] <= 90):\n",
    "        a.loc[i,['new_y']] = 'bin4'\n",
    "    if (targets[i]>90) & (targets[i] <= 95):\n",
    "        a.loc[i,['new_y']] = 'bin5'\n",
    "    if (targets[i]>95) & (targets[i] <= 100):\n",
    "        a.loc[i,['new_y']] = 'bin6'\n",
    "    if (targets[i]>100) & (targets[i] <= 105):\n",
    "        a.loc[i,['new_y']] = 'bin7'\n",
    "    if (targets[i]>105) & (targets[i] <= 110):\n",
    "        a.loc[i,['new_y']] = 'bin8'\n",
    "    if (targets[i]>110) & (targets[i] <= 115):\n",
    "        a.loc[i,['new_y']] = 'bin9'\n",
    "    if (targets[i]>115) & (targets[i] <= 120):\n",
    "        a.loc[i,['new_y']] = 'bin10'\n",
    "    if (targets[i]>120) & (targets[i] <= 125):\n",
    "        a.loc[i,['new_y']] = 'bin11'\n",
    "    if (targets[i]>125) & (targets[i] <= 130):\n",
    "        a.loc[i,['new_y']] = 'bin12'\n",
    "    if (targets[i]>130) & (targets[i] <= 135):\n",
    "        a.loc[i,['new_y']] = 'bin13'\n",
    "    if (targets[i]>135) & (targets[i] <= 140):\n",
    "        a.loc[i,['new_y']] = 'bin14'\n",
    "    if (targets[i]>140) & (targets[i] <= 145):\n",
    "        a.loc[i,['new_y']] = 'bin15'\n",
    "    if (targets[i]>145) & (targets[i] <= 150):\n",
    "        a.loc[i,['new_y']] = 'bin16'\n",
    "    if (targets[i]>150) & (targets[i] <= 155):\n",
    "        a.loc[i,['new_y']] = 'bin17'\n",
    "    if (targets[i]>155) & (targets[i] <= 160):\n",
    "        a.loc[i,['new_y']] = 'bin18'\n",
    "    if (targets[i]>160) & (targets[i] <= 165):\n",
    "        a.loc[i,['new_y']] = 'bin19'\n",
    "    if (targets[i]>165) & (targets[i] <= 170):\n",
    "        a.loc[i,['new_y']] = 'bin20'\n",
    "    if (targets[i]>170): \n",
    "        a.loc[i,['new_y']] = 'bin21'"
   ]
  },
  {
   "cell_type": "code",
   "execution_count": 13,
   "metadata": {},
   "outputs": [
    {
     "data": {
      "text/plain": [
       "0       bin13\n",
       "1        bin4\n",
       "2        bin2\n",
       "3        bin3\n",
       "4        bin2\n",
       "5        bin5\n",
       "6       bin12\n",
       "7        bin5\n",
       "8        bin8\n",
       "9       bin12\n",
       "10       bin7\n",
       "11       bin6\n",
       "12       bin3\n",
       "13       bin5\n",
       "14       bin6\n",
       "15       bin5\n",
       "16       bin8\n",
       "17       bin9\n",
       "18       bin4\n",
       "19       bin5\n",
       "20       bin5\n",
       "21       bin5\n",
       "22       bin8\n",
       "23      bin11\n",
       "24       bin3\n",
       "25       bin5\n",
       "26       bin7\n",
       "27       bin4\n",
       "28       bin5\n",
       "29      bin12\n",
       "        ...  \n",
       "4179     bin4\n",
       "4180     bin5\n",
       "4181     bin5\n",
       "4182     bin5\n",
       "4183     bin6\n",
       "4184     bin8\n",
       "4185     bin8\n",
       "4186    bin13\n",
       "4187     bin6\n",
       "4188     bin7\n",
       "4189     bin7\n",
       "4190     bin4\n",
       "4191     bin4\n",
       "4192     bin7\n",
       "4193     bin8\n",
       "4194     bin5\n",
       "4195     bin4\n",
       "4196     bin6\n",
       "4197     bin4\n",
       "4198     bin6\n",
       "4199     bin4\n",
       "4200     bin8\n",
       "4201     bin8\n",
       "4202    bin11\n",
       "4203     bin4\n",
       "4204     bin8\n",
       "4205     bin8\n",
       "4206     bin8\n",
       "4207     bin4\n",
       "4208     bin9\n",
       "Name: new_y, Length: 4209, dtype: object"
      ]
     },
     "execution_count": 13,
     "metadata": {},
     "output_type": "execute_result"
    }
   ],
   "source": [
    "a['new_y']"
   ]
  },
  {
   "cell_type": "code",
   "execution_count": 14,
   "metadata": {},
   "outputs": [],
   "source": [
    "# bins = pd.concat([bin1,bin2,bin3,bin4,bin5,bin6,bin7,bin8,bin9,bin10,\n",
    "#                  bin11,bin12,bin13,bin14,bin15,bin16,bin17,bin18,bin19,bin20], axis=1)\n",
    "# bins.shape"
   ]
  },
  {
   "cell_type": "code",
   "execution_count": 15,
   "metadata": {},
   "outputs": [],
   "source": [
    "labels = a['new_y']"
   ]
  },
  {
   "cell_type": "code",
   "execution_count": 16,
   "metadata": {},
   "outputs": [],
   "source": [
    "lb = preprocessing.LabelBinarizer() #Calling the label binarizer function"
   ]
  },
  {
   "cell_type": "code",
   "execution_count": 17,
   "metadata": {},
   "outputs": [
    {
     "name": "stdout",
     "output_type": "stream",
     "text": [
      "(4209, 47)\n",
      "(4209, 47)\n"
     ]
    }
   ],
   "source": [
    "lb.fit(a['X0']) #Fitting it to the column for categorical data. \n",
    "lbin = lb.transform(a['X0']) #Applying the transform to the column\n",
    "type_x0 = pd.DataFrame(data = lbin, columns = lb.classes_) #Creating a new DF with transformed values\n",
    "\n",
    "lbin = lb.transform(b['X0']) #Applying the same transformation to test data\n",
    "type_y0 = pd.DataFrame(data = lbin, columns = lb.classes_) #Creating a new DF to call later\n",
    "\n",
    "print(type_x0.shape) #print just to check if both the column sizes match for train and test\n",
    "print(type_y0.shape)"
   ]
  },
  {
   "cell_type": "code",
   "execution_count": 18,
   "metadata": {},
   "outputs": [
    {
     "name": "stdout",
     "output_type": "stream",
     "text": [
      "(4209, 27)\n",
      "(4209, 27)\n"
     ]
    }
   ],
   "source": [
    "lb.fit(a['X1']) #Fitting it to the column for categorical data. \n",
    "lbin = lb.transform(a['X1']) #Applying the transform to the column\n",
    "type_x1 = pd.DataFrame(data = lbin, columns = lb.classes_) #Creating a new DF with transformed values\n",
    "\n",
    "lbin = lb.transform(b['X1']) #Applying the same transformation to test data\n",
    "type_y1 = pd.DataFrame(data = lbin, columns = lb.classes_) #Creating a new DF to call later\n",
    "\n",
    "print(type_x1.shape) #print just to check if both the column sizes match for train and test\n",
    "print(type_y1.shape)"
   ]
  },
  {
   "cell_type": "code",
   "execution_count": 19,
   "metadata": {},
   "outputs": [
    {
     "name": "stdout",
     "output_type": "stream",
     "text": [
      "(4209, 44)\n",
      "(4209, 44)\n"
     ]
    }
   ],
   "source": [
    "lb.fit(a['X2']) #Fitting it to the column for categorical data. \n",
    "lbin = lb.transform(a['X2']) #Applying the transform to the column\n",
    "type_x2 = pd.DataFrame(data = lbin, columns = lb.classes_) #Creating a new DF with transformed values\n",
    "\n",
    "lbin = lb.transform(b['X2']) #Applying the same transformation to test data\n",
    "type_y2 = pd.DataFrame(data = lbin, columns = lb.classes_) #Creating a new DF to call later\n",
    "\n",
    "print(type_x2.shape) #print just to check if both the column sizes match for train and test\n",
    "print(type_y2.shape)"
   ]
  },
  {
   "cell_type": "code",
   "execution_count": 20,
   "metadata": {},
   "outputs": [
    {
     "name": "stdout",
     "output_type": "stream",
     "text": [
      "(4209, 7)\n",
      "(4209, 7)\n"
     ]
    }
   ],
   "source": [
    "lb.fit(a['X3']) #Fitting it to the column for categorical data. \n",
    "lbin = lb.transform(a['X3']) #Applying the transform to the column\n",
    "type_x3 = pd.DataFrame(data = lbin, columns = lb.classes_) #Creating a new DF with transformed values\n",
    "\n",
    "lbin = lb.transform(b['X3']) #Applying the same transformation to test data\n",
    "type_y3 = pd.DataFrame(data = lbin, columns = lb.classes_) #Creating a new DF to call later\n",
    "\n",
    "print(type_x3.shape) #print just to check if both the column sizes match for train and test\n",
    "print(type_y3.shape)"
   ]
  },
  {
   "cell_type": "code",
   "execution_count": 21,
   "metadata": {},
   "outputs": [
    {
     "name": "stdout",
     "output_type": "stream",
     "text": [
      "(4209, 4)\n",
      "(4209, 4)\n"
     ]
    }
   ],
   "source": [
    "lb.fit(a['X4']) #Fitting it to the column for categorical data. \n",
    "lbin = lb.transform(a['X4']) #Applying the transform to the column\n",
    "type_x4 = pd.DataFrame(data = lbin, columns = lb.classes_) #Creating a new DF with transformed values\n",
    "\n",
    "lbin = lb.transform(b['X4']) #Applying the same transformation to test data\n",
    "type_y4 = pd.DataFrame(data = lbin, columns = lb.classes_) #Creating a new DF to call later\n",
    "\n",
    "print(type_x4.shape) #print just to check if both the column sizes match for train and test\n",
    "print(type_y4.shape)"
   ]
  },
  {
   "cell_type": "code",
   "execution_count": 22,
   "metadata": {},
   "outputs": [
    {
     "name": "stdout",
     "output_type": "stream",
     "text": [
      "(4209, 29)\n",
      "(4209, 29)\n"
     ]
    }
   ],
   "source": [
    "lb.fit(a['X5']) #Fitting it to the column for categorical data. \n",
    "lbin = lb.transform(a['X5']) #Applying the transform to the column\n",
    "type_x5 = pd.DataFrame(data = lbin, columns = lb.classes_) #Creating a new DF with transformed values\n",
    "\n",
    "lbin = lb.transform(b['X5']) #Applying the same transformation to test data\n",
    "type_y5 = pd.DataFrame(data = lbin, columns = lb.classes_) #Creating a new DF to call later\n",
    "\n",
    "print(type_x5.shape) #print just to check if both the column sizes match for train and test\n",
    "print(type_y5.shape)"
   ]
  },
  {
   "cell_type": "code",
   "execution_count": 23,
   "metadata": {},
   "outputs": [
    {
     "name": "stdout",
     "output_type": "stream",
     "text": [
      "(4209, 12)\n",
      "(4209, 12)\n"
     ]
    }
   ],
   "source": [
    "lb.fit(a['X6']) #Fitting it to the column for categorical data. \n",
    "lbin = lb.transform(a['X6']) #Applying the transform to the column\n",
    "type_x6 = pd.DataFrame(data = lbin, columns = lb.classes_) #Creating a new DF with transformed values\n",
    "\n",
    "lbin = lb.transform(b['X6']) #Applying the same transformation to test data\n",
    "type_y6 = pd.DataFrame(data = lbin, columns = lb.classes_) #Creating a new DF to call later\n",
    "\n",
    "print(type_x6.shape) #print just to check if both the column sizes match for train and test\n",
    "print(type_y6.shape)"
   ]
  },
  {
   "cell_type": "code",
   "execution_count": 24,
   "metadata": {},
   "outputs": [
    {
     "name": "stdout",
     "output_type": "stream",
     "text": [
      "(4209, 25)\n",
      "(4209, 25)\n"
     ]
    }
   ],
   "source": [
    "lb.fit(a['X8']) #Fitting it to the column for categorical data. \n",
    "lbin = lb.transform(a['X8']) #Applying the transform to the column\n",
    "type_x8 = pd.DataFrame(data = lbin, columns = lb.classes_) #Creating a new DF with transformed values\n",
    "\n",
    "lbin = lb.transform(b['X8']) #Applying the same transformation to test data\n",
    "type_y8 = pd.DataFrame(data = lbin, columns = lb.classes_) #Creating a new DF to call later\n",
    "\n",
    "print(type_x8.shape) #print just to check if both the column sizes match for train and test\n",
    "print(type_y8.shape)"
   ]
  },
  {
   "cell_type": "code",
   "execution_count": 25,
   "metadata": {},
   "outputs": [
    {
     "name": "stdout",
     "output_type": "stream",
     "text": [
      "(4209, 378)\n",
      "(4209, 552)\n"
     ]
    }
   ],
   "source": [
    "mainx_df = pd.concat([a, type_x0, type_x1, type_x2, type_x3, type_x4, type_x5, type_x6, type_x8], axis = 1)\n",
    "\n",
    "mainx_df.drop(labels = ['new_y','X0', 'X1', 'X2', 'X3', 'X4', 'X5', 'X6', 'X8','X11','X93','X107', 'X233', 'X235' ,\n",
    "                        'X268','X289', 'X290' ,'X293', 'X297','X330' ,'X347'], axis = 1, inplace = True)\n",
    "\n",
    "print(a.shape)\n",
    "print(mainx_df.shape)\n",
    "# mainx_df"
   ]
  },
  {
   "cell_type": "code",
   "execution_count": 28,
   "metadata": {},
   "outputs": [
    {
     "name": "stdout",
     "output_type": "stream",
     "text": [
      "(4209, 377)\n",
      "(4209, 552)\n"
     ]
    }
   ],
   "source": [
    "mainy_df = pd.concat([b, type_y0, type_y1, type_y2, type_y3, type_y4, type_y5, type_y6, type_y8], axis = 1)\n",
    "\n",
    "mainy_df.drop(labels = ['X0', 'X1', 'X2', 'X3', 'X4', 'X5', 'X6', 'X8','X11','X93','X107', 'X233', 'X235' ,\n",
    "                        'X268','X289', 'X290' ,'X293', 'X297','X330' ,'X347'], axis = 1, inplace = True)\n",
    "\n",
    "print(b.shape)\n",
    "print(mainy_df.shape)\n",
    "# mainy_df"
   ]
  },
  {
   "cell_type": "code",
   "execution_count": 29,
   "metadata": {},
   "outputs": [],
   "source": [
    "from sklearn.preprocessing import StandardScaler\n",
    "\n",
    "scaler = StandardScaler()\n",
    "scaler.fit(mainx_df)\n",
    "\n",
    "mainx_df = scaler.transform(mainx_df)\n",
    "mainy_df = scaler.transform(mainy_df)"
   ]
  },
  {
   "cell_type": "code",
   "execution_count": 30,
   "metadata": {},
   "outputs": [],
   "source": [
    "# targets = targets.astype(float)"
   ]
  },
  {
   "cell_type": "code",
   "execution_count": 31,
   "metadata": {},
   "outputs": [],
   "source": [
    "# from sklearn.datasets import load_digits\n",
    "# from sklearn.decomposition import FastICA\n",
    "\n"
   ]
  },
  {
   "cell_type": "code",
   "execution_count": 32,
   "metadata": {},
   "outputs": [],
   "source": [
    "# X, _ = load_digits(return_X_y=True)\n",
    "# transformer = FastICA(n_components=10,random_state=0)\n",
    "# X_transformed = transformer.fit_transform(X)\n",
    "# X_transformed.shape"
   ]
  },
  {
   "cell_type": "code",
   "execution_count": 33,
   "metadata": {},
   "outputs": [],
   "source": [
    "# train_x = mainx_df[:3500]\n",
    "# train_y = targets[:3500]\n",
    "# test_x = mainx_df[3500:]\n",
    "# test_y = targets[3500:]\n"
   ]
  },
  {
   "cell_type": "code",
   "execution_count": 34,
   "metadata": {},
   "outputs": [],
   "source": [
    "# print(train_x.shape)\n",
    "# print(train_y.shape)"
   ]
  },
  {
   "cell_type": "code",
   "execution_count": 35,
   "metadata": {},
   "outputs": [],
   "source": [
    "from sklearn.linear_model import LinearRegression, Ridge, Lasso, LogisticRegression\n",
    "from sklearn.model_selection import KFold\n",
    "from sklearn.metrics import mean_squared_error, r2_score, confusion_matrix, average_precision_score, classification_report\n",
    "seed = 100"
   ]
  },
  {
   "cell_type": "code",
   "execution_count": null,
   "metadata": {},
   "outputs": [],
   "source": []
  },
  {
   "cell_type": "code",
   "execution_count": 36,
   "metadata": {},
   "outputs": [
    {
     "name": "stdout",
     "output_type": "stream",
     "text": [
      "0\n",
      "float64 object\n",
      "float64 object\n",
      "Accuracy score for Log-Regression =  0.2850356294536817\n",
      "float64 object\n",
      "float64 object\n",
      "Accuracy score for Log-Regression =  0.31116389548693585\n",
      "float64 object\n",
      "float64 object\n",
      "Accuracy score for Log-Regression =  0.2921615201900237\n",
      "float64 object\n",
      "float64 object\n",
      "Accuracy score for Log-Regression =  0.33729216152019004\n",
      "float64 object\n",
      "float64 object\n",
      "Accuracy score for Log-Regression =  0.32066508313539194\n",
      "float64 object\n",
      "float64 object\n",
      "Accuracy score for Log-Regression =  0.38717339667458434\n",
      "float64 object\n",
      "float64 object\n",
      "Accuracy score for Log-Regression =  0.38004750593824227\n",
      "float64 object\n",
      "float64 object\n",
      "Accuracy score for Log-Regression =  0.34679334916864607\n",
      "float64 object\n",
      "float64 object\n",
      "Accuracy score for Log-Regression =  0.33729216152019004\n",
      "float64 object\n",
      "float64 object\n",
      "Accuracy score for Log-Regression =  0.3547619047619048\n",
      "Average Accuracy score for Logistic Regression =  0.33523866078497905\n"
     ]
    }
   ],
   "source": [
    "log_cv = KFold(n_splits=10,random_state=seed,shuffle=True)\n",
    "log_avg = 0\n",
    "i=1\n",
    "print(0)\n",
    "for train, test in log_cv.split(mainx_df,labels):    \n",
    "    x_train = mainx_df[train] \n",
    "    x_valid = mainx_df[test]\n",
    "    y_train = labels.values[train]\n",
    "    y_valid = labels.values[test]\n",
    "    print(x_train.dtype, y_train.dtype)\n",
    "    print(x_valid.dtype, y_valid.dtype)\n",
    "    \n",
    "    log = LogisticRegression(C=10 ,  penalty = 'l2' ,random_state=0, solver='lbfgs', multi_class='multinomial')\n",
    "    log.fit(x_train, y_train)\n",
    "    log_prediction = log.predict(x_valid)\n",
    "    log_r2 = log.score(x_valid,y_valid)\n",
    "    log_avg = log_avg + log_r2\n",
    "    print('Accuracy score for Log-Regression = ',log_r2)\n",
    "    i+=1\n",
    "print('Average Accuracy score for Logistic Regression = ',log_avg/10)\n"
   ]
  },
  {
   "cell_type": "code",
   "execution_count": null,
   "metadata": {},
   "outputs": [],
   "source": [
    "sns.boxplot(x=\"\", y=\"total_bill\", hue=\"smoker\",data=tips, palette=\"coolwarm\")"
   ]
  }
 ],
 "metadata": {
  "kernelspec": {
   "display_name": "Python 3",
   "language": "python",
   "name": "python3"
  },
  "language_info": {
   "codemirror_mode": {
    "name": "ipython",
    "version": 3
   },
   "file_extension": ".py",
   "mimetype": "text/x-python",
   "name": "python",
   "nbconvert_exporter": "python",
   "pygments_lexer": "ipython3",
   "version": "3.7.1"
  }
 },
 "nbformat": 4,
 "nbformat_minor": 2
}
